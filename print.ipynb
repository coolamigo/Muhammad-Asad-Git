{
 "cells": [
  {
   "cell_type": "code",
   "execution_count": 1,
   "metadata": {},
   "outputs": [
    {
     "name": "stdout",
     "output_type": "stream",
     "text": [
      "123\n"
     ]
    }
   ],
   "source": [
    "print(\"123\")"
   ]
  },
  {
   "cell_type": "code",
   "execution_count": 4,
   "metadata": {},
   "outputs": [
    {
     "name": "stdout",
     "output_type": "stream",
     "text": [
      "66\n"
     ]
    }
   ],
   "source": [
    "#legal variables\n",
    "a=5\n",
    "_b=2\n",
    "b_a=3\n",
    "apple=4\n",
    "a1=1\n",
    "a1a=6\n",
    "forAll=10\n",
    "_=8\n",
    "x=y=7\n",
    "y,z=9,11\n",
    "print(a+_b+b_a+apple+a1+a1a+forAll+_+x+y+z)"
   ]
  },
  {
   "cell_type": "code",
   "execution_count": null,
   "metadata": {},
   "outputs": [],
   "source": [
    "#illegal variables\n",
    "2=1\n",
    "2a=1\n",
    "-=1\n",
    "@a=1\n",
    "a@=1\n",
    "a%a=1\n",
    "and=1\n",
    "or=1\n",
    "False=1\n",
    "is=1\n",
    "True=1\n",
    "except=1\n",
    "try=1\n",
    "\n"
   ]
  }
 ],
 "metadata": {
  "kernelspec": {
   "display_name": "Python 3",
   "language": "python",
   "name": "python3"
  },
  "language_info": {
   "codemirror_mode": {
    "name": "ipython",
    "version": 3
   },
   "file_extension": ".py",
   "mimetype": "text/x-python",
   "name": "python",
   "nbconvert_exporter": "python",
   "pygments_lexer": "ipython3",
   "version": "3.7.3"
  }
 },
 "nbformat": 4,
 "nbformat_minor": 2
}
