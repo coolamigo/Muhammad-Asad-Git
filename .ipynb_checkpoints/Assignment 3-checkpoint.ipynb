{
 "cells": [
  {
   "cell_type": "markdown",
   "metadata": {},
   "source": [
    "# Assignment 3"
   ]
  },
  {
   "cell_type": "code",
   "execution_count": 11,
   "metadata": {},
   "outputs": [
    {
     "name": "stdout",
     "output_type": "stream",
     "text": [
      "['Hamid', 'Danial', 'Ali', 'Daood', 'Talha', 'Naseer']\n",
      "['Hamid', 'Danial', 'Ali', 'Daood']\n"
     ]
    }
   ],
   "source": [
    "List_fr = [\"Hamid\", \"Danial\", \"Ali\", \"Daood\", \"Talha\", \"Naseer\"]\n",
    "print(List_fr)\n",
    "List_bf = [\"Hamid\", \"Danial\", \"Ali\", \"Daood\"]\n",
    "print(List_bf)"
   ]
  },
  {
   "cell_type": "code",
   "execution_count": 12,
   "metadata": {},
   "outputs": [
    {
     "name": "stdout",
     "output_type": "stream",
     "text": [
      "['Hamid', 'Danial', 'Ali', 'Daood', 'Naseer']\n"
     ]
    }
   ],
   "source": [
    "List_fr.remove(\"Talha\")\n",
    "print(List_fr)"
   ]
  },
  {
   "cell_type": "code",
   "execution_count": 13,
   "metadata": {},
   "outputs": [
    {
     "name": "stdout",
     "output_type": "stream",
     "text": [
      "['Hamid', 'Danial', 'Ali', 'Daood']\n"
     ]
    }
   ],
   "source": [
    "List_fr.remove(\"Naseer\")\n",
    "print(List_fr)"
   ]
  }
 ],
 "metadata": {
  "kernelspec": {
   "display_name": "Python 3",
   "language": "python",
   "name": "python3"
  },
  "language_info": {
   "codemirror_mode": {
    "name": "ipython",
    "version": 3
   },
   "file_extension": ".py",
   "mimetype": "text/x-python",
   "name": "python",
   "nbconvert_exporter": "python",
   "pygments_lexer": "ipython3",
   "version": "3.7.3"
  }
 },
 "nbformat": 4,
 "nbformat_minor": 2
}
